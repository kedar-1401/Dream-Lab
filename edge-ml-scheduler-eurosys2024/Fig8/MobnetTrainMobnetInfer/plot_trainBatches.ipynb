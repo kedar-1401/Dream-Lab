{
 "cells": [
  {
   "cell_type": "code",
   "execution_count": 14,
   "metadata": {},
   "outputs": [],
   "source": [
    "import pandas as pd\n",
    "import numpy as np\n",
    "import matplotlib.pyplot as plt\n",
    "import seaborn as sns\n",
    "import matplotlib.patches as mpatches"
   ]
  },
  {
   "cell_type": "code",
   "execution_count": 15,
   "metadata": {},
   "outputs": [],
   "source": [
    "model_train = 'mobnet'\n",
    "model_infer = 'mobnet'\n",
    "\n",
    "gmd = pd.read_csv(f'interleaved_{model_train}_train_{model_infer}_infer_multi_al.csv')\n",
    "nnRan250 = pd.read_csv(f'interleaved_{model_train}_train_{model_infer}_infer_nn_random_multi_al.csv')\n",
    "nnRan50 = pd.read_csv(f'interleaved_{model_train}_train_{model_infer}_infer_nn_alt_random_multi_al.csv')\n",
    "\n",
    "nnRan50 = nnRan50.add_suffix('_50')\n",
    "nnRan50.rename(columns={\n",
    "    'power_budget_50': 'power_budget',\n",
    "    'time_budget_50': 'time_budget',\n",
    "    'arr_rate_50': 'arr_rate'\n",
    "}, inplace=True)\n",
    "\n",
    "gmd['power_budget'] = gmd['power_budget'].astype(int)\n",
    "merged_df = pd.merge(gmd, nnRan250, on=['power_budget', 'time_budget', 'arr_rate'], how='outer', suffixes=('_gmd', '_nnRan250'))\n",
    "merged_df = pd.merge(merged_df, nnRan50, on=['power_budget', 'time_budget', 'arr_rate'], how='outer')\n",
    "\n",
    "# Display merged DataFrame\n",
    "merged_df.to_csv('merged_data.csv', index=False)\n",
    "# merged_df.columns"
   ]
  },
  {
   "cell_type": "code",
   "execution_count": 16,
   "metadata": {},
   "outputs": [
    {
     "name": "stderr",
     "output_type": "stream",
     "text": [
      "C:\\Users\\laksh\\AppData\\Local\\Temp\\ipykernel_20896\\931829310.py:2: SettingWithCopyWarning: \n",
      "A value is trying to be set on a copy of a slice from a DataFrame.\n",
      "Try using .loc[row_indexer,col_indexer] = value instead\n",
      "\n",
      "See the caveats in the documentation: https://pandas.pydata.org/pandas-docs/stable/user_guide/indexing.html#returning-a-view-versus-a-copy\n",
      "  nn50['num_pwds'] = 50\n",
      "C:\\Users\\laksh\\AppData\\Local\\Temp\\ipykernel_20896\\931829310.py:8: SettingWithCopyWarning: \n",
      "A value is trying to be set on a copy of a slice from a DataFrame.\n",
      "Try using .loc[row_indexer,col_indexer] = value instead\n",
      "\n",
      "See the caveats in the documentation: https://pandas.pydata.org/pandas-docs/stable/user_guide/indexing.html#returning-a-view-versus-a-copy\n",
      "  nn250['num_pwds'] = 250\n",
      "C:\\Users\\laksh\\AppData\\Local\\Temp\\ipykernel_20896\\931829310.py:14: SettingWithCopyWarning: \n",
      "A value is trying to be set on a copy of a slice from a DataFrame.\n",
      "Try using .loc[row_indexer,col_indexer] = value instead\n",
      "\n",
      "See the caveats in the documentation: https://pandas.pydata.org/pandas-docs/stable/user_guide/indexing.html#returning-a-view-versus-a-copy\n",
      "  gmd['num_pwds'] = merged_df['num_tries_algo']\n",
      "C:\\Users\\laksh\\AppData\\Local\\Temp\\ipykernel_20896\\931829310.py:26: SettingWithCopyWarning: \n",
      "A value is trying to be set on a copy of a slice from a DataFrame.\n",
      "Try using .loc[row_indexer,col_indexer] = value instead\n",
      "\n",
      "See the caveats in the documentation: https://pandas.pydata.org/pandas-docs/stable/user_guide/indexing.html#returning-a-view-versus-a-copy\n",
      "  rnd['num_pwds'] = 50\n"
     ]
    }
   ],
   "source": [
    "nn50 = merged_df[['bs_nn_50', 'infer_time_nn_50', 'interleaved_power_nn_50', 'num_train_batches_nn_50', 'power_budget', 'arr_rate', 'time_budget']]\n",
    "nn50['num_pwds'] = 50\n",
    "# nn50 = nn50[nn50['soln_nn_50'] == 1]\n",
    "# nn50 = nn50[nn50['arr_rate'] == arr_rate]\n",
    "# nn50 = nn50[nn50['power_budget'] == pb]\n",
    "        \n",
    "nn250 = merged_df[['bs_nn', 'infer_time_nn', 'interleaved_power_nn', 'num_train_batches_nn', 'power_budget', 'arr_rate', 'time_budget']]\n",
    "nn250['num_pwds'] = 250\n",
    "# nn250 = nn250[nn250['soln_nn'] == 1]\n",
    "# nn250 = nn250[nn250['arr_rate'] == arr_rate]\n",
    "# nn250 = nn250[nn250['power_budget'] == pb]\n",
    "\n",
    "gmd = merged_df[['bs_algo', 'infer_time_algo', 'interleaved_power_algo', 'num_train_batches_algo', 'power_budget', 'arr_rate', 'time_budget']]\n",
    "gmd['num_pwds'] = merged_df['num_tries_algo']\n",
    "# gmd = gmd[gmd['soln_algo'] == 1]\n",
    "# gmd = gmd[gmd['arr_rate'] == arr_rate]\n",
    "# gmd = gmd[gmd['power_budget'] == pb]\n",
    "\n",
    "# bs = merged_df[['bs_bs', 'observed_time', 'observed_power', 'power_budget', 'arr_rate', 'time_budget']]\n",
    "# bs['num_pwds'] = merged_df['num_pwds_bs']\n",
    "# bs = bs[bs['soln_bs'] == 1]\n",
    "# bs = bs[bs['arr_rate'] == arr_rate]\n",
    "# bs = bs[bs['power_budget'] == pb]\n",
    "\n",
    "rnd = merged_df[['bs_random_50', 'infer_time_random_50', 'interleaved_power_random_50', 'num_train_batches_random_50', 'power_budget', 'arr_rate', 'time_budget']]\n",
    "rnd['num_pwds'] = 50\n",
    "# rnd = rnd[rnd['soln_random_50'] == 1]\n",
    "# rnd = rnd[rnd['arr_rate'] == arr_rate]\n",
    "# rnd = rnd[rnd['power_budget'] == pb]\n",
    "\n",
    "optim = merged_df[['bs_optim', 'infer_time_optim', 'interleaved_power_optim','num_train_batches_optim', 'power_budget', 'arr_rate', 'time_budget']]\n",
    "# optim = optim[optim['soln_optim'] == 1]\n",
    "# optim = optim[optim['arr_rate'] == arr_rate]\n",
    "# optim = optim[optim['power_budget'] == pb]\n"
   ]
  },
  {
   "cell_type": "code",
   "execution_count": 17,
   "metadata": {},
   "outputs": [
    {
     "name": "stderr",
     "output_type": "stream",
     "text": [
      "C:\\Users\\laksh\\AppData\\Local\\Temp\\ipykernel_20896\\3311785525.py:1: SettingWithCopyWarning: \n",
      "A value is trying to be set on a copy of a slice from a DataFrame\n",
      "\n",
      "See the caveats in the documentation: https://pandas.pydata.org/pandas-docs/stable/user_guide/indexing.html#returning-a-view-versus-a-copy\n",
      "  gmd.dropna(inplace=True)\n",
      "C:\\Users\\laksh\\AppData\\Local\\Temp\\ipykernel_20896\\3311785525.py:2: SettingWithCopyWarning: \n",
      "A value is trying to be set on a copy of a slice from a DataFrame\n",
      "\n",
      "See the caveats in the documentation: https://pandas.pydata.org/pandas-docs/stable/user_guide/indexing.html#returning-a-view-versus-a-copy\n",
      "  rnd.dropna(inplace=True)\n",
      "C:\\Users\\laksh\\AppData\\Local\\Temp\\ipykernel_20896\\3311785525.py:3: SettingWithCopyWarning: \n",
      "A value is trying to be set on a copy of a slice from a DataFrame\n",
      "\n",
      "See the caveats in the documentation: https://pandas.pydata.org/pandas-docs/stable/user_guide/indexing.html#returning-a-view-versus-a-copy\n",
      "  nn50.dropna(inplace=True)\n",
      "C:\\Users\\laksh\\AppData\\Local\\Temp\\ipykernel_20896\\3311785525.py:4: SettingWithCopyWarning: \n",
      "A value is trying to be set on a copy of a slice from a DataFrame\n",
      "\n",
      "See the caveats in the documentation: https://pandas.pydata.org/pandas-docs/stable/user_guide/indexing.html#returning-a-view-versus-a-copy\n",
      "  nn250.dropna(inplace=True)\n",
      "C:\\Users\\laksh\\AppData\\Local\\Temp\\ipykernel_20896\\3311785525.py:5: SettingWithCopyWarning: \n",
      "A value is trying to be set on a copy of a slice from a DataFrame\n",
      "\n",
      "See the caveats in the documentation: https://pandas.pydata.org/pandas-docs/stable/user_guide/indexing.html#returning-a-view-versus-a-copy\n",
      "  optim.dropna(inplace=True)\n"
     ]
    }
   ],
   "source": [
    "gmd.dropna(inplace=True)\n",
    "rnd.dropna(inplace=True)\n",
    "nn50.dropna(inplace=True)\n",
    "nn250.dropna(inplace=True)\n",
    "optim.dropna(inplace=True)"
   ]
  },
  {
   "cell_type": "code",
   "execution_count": 18,
   "metadata": {},
   "outputs": [],
   "source": [
    "# nn50.to_csv('nn50.csv')\n",
    "# nn250.to_csv('nn250.csv')\n",
    "# gmd.to_csv('gmd.csv')\n",
    "# rnd.to_csv('rnd.csv')\n",
    "# optim.to_csv('optim.csv')"
   ]
  },
  {
   "cell_type": "code",
   "execution_count": 19,
   "metadata": {},
   "outputs": [
    {
     "data": {
      "text/plain": [
       "[50.0, 100, 11.660148470034402]"
      ]
     },
     "execution_count": 19,
     "metadata": {},
     "output_type": "execute_result"
    }
   ],
   "source": [
    "gmd_tries = list(gmd['num_pwds'])\n",
    "random_tries = list(rnd['num_pwds'])\n",
    "nn_tries = list(nn50['num_pwds'])\n",
    "nn250_tries = list(nn250['num_pwds'])\n",
    "\n",
    "# # rake mean tries for all\n",
    "gmd_tries_mean = np.mean(gmd_tries)\n",
    "random_tries_mean = np.mean(random_tries)\n",
    "nn_tries_mean50 = 100\n",
    "nn_tries_mean250 = 100\n",
    "\n",
    "mean_tries_list = [random_tries_mean, nn_tries_mean250, gmd_tries_mean]\n",
    "mean_tries_list"
   ]
  },
  {
   "cell_type": "code",
   "execution_count": 20,
   "metadata": {},
   "outputs": [
    {
     "data": {
      "text/plain": [
       "(10.0, 23.0, 11.660148470034402)"
      ]
     },
     "execution_count": 20,
     "metadata": {},
     "output_type": "execute_result"
    }
   ],
   "source": [
    "min(gmd_tries), max(gmd_tries), np.mean(gmd_tries)"
   ]
  },
  {
   "cell_type": "code",
   "execution_count": 21,
   "metadata": {},
   "outputs": [
    {
     "data": {
      "text/plain": [
       "[array([0., 0., 0., ..., 2., 2., 2.]),\n",
       " array([0., 0., 0., ..., 3., 3., 3.]),\n",
       " array([0., 0., 0., ..., 4., 4., 4.]),\n",
       " array([0., 0., 0., ..., 4., 4., 4.])]"
      ]
     },
     "execution_count": 21,
     "metadata": {},
     "output_type": "execute_result"
    }
   ],
   "source": [
    "# datalist = [rnd['penalty'].values, nn50['penalty'].values, nn250['penalty'].values, gmd['penalty'].values]\n",
    "datalist = [rnd['num_train_batches_random_50'].values, nn250['num_train_batches_nn'].values, gmd['num_train_batches_algo'].values, optim['num_train_batches_optim'].values]\n",
    "datalist "
   ]
  },
  {
   "cell_type": "code",
   "execution_count": 22,
   "metadata": {},
   "outputs": [
    {
     "data": {
      "image/png": "[encoded data removed]",
      "text/plain": [
       "<Figure size 500x600 with 2 Axes>"
      ]
     },
     "metadata": {},
     "output_type": "display_data"
    }
   ],
   "source": [
    "if model_train == 'mobnet' and model_infer == 'mobnet':# Reordered labels\n",
    "    labels = ['RND', 'NN250', 'GMD', 'OPT']\n",
    "\n",
    "    # Reordered colors\n",
    "    colors = ['#e36668', '#fadc6f', '#84b070', '#61b1ff']\n",
    "\n",
    "    fig, ax = plt.subplots(figsize=(5, 6))  # Adjust the figure size as needed\n",
    "\n",
    "    for axis in ['top', 'bottom', 'left', 'right']:\n",
    "        ax.spines[axis].set_linewidth(1)  # change width\n",
    "        ax.spines[axis].set_color('k')    # change color\n",
    "\n",
    "    sns.boxplot(data=datalist, \n",
    "                palette=colors,\n",
    "                width=0.5, \n",
    "                whis=(0, 100), \n",
    "                linewidth=1,  # set linewidth directly in boxplot function\n",
    "                whiskerprops=dict(color=\"black\", alpha=1), \n",
    "                medianprops=dict(color=\"black\", alpha=1),\n",
    "                boxprops=dict(edgecolor=\"black\"),\n",
    "                ax=ax)\n",
    "\n",
    "    ax2 = ax.twinx()\n",
    "    for i, value in enumerate(mean_tries_list):\n",
    "        ax2.plot(i, value, marker='D', markersize=8, color='blue', linestyle='None')\n",
    "        \n",
    "    ax2.tick_params(axis='y', which='major', labelsize=20)\n",
    "    # ax2.set_ylabel('Mean Tries', fontsize=24, color='blue')\n",
    "    ax2.spines['right'].set_color('blue')\n",
    "\n",
    "\n",
    "    # Set the x-axis ticks and labels\n",
    "    ax.set_xticks(range(len(labels)))\n",
    "    ax.set_xticklabels(labels, fontsize=20)\n",
    "    ax.tick_params(axis='x', rotation=45)  # Rotate x-axis labels\n",
    "    ax.tick_params(axis='y', which='major', labelsize=20)\n",
    "\n",
    "    # Add gridlines\n",
    "    ax.grid(which='major', linestyle='-', linewidth='0.5', color='black', alpha=0.7)\n",
    "    ax.grid(which='minor', linestyle='-', linewidth='0.5', color='lightgray')\n",
    "    ax.minorticks_on()\n",
    "\n",
    "    # Add a horizontal line at y=0\n",
    "    ax.axhline(y=0, linewidth=3, color='black')\n",
    "\n",
    "    # Calculate medians for each group and add text annotations\n",
    "    medians = [np.median(x) for x in datalist]\n",
    "    # if model_train == 'resnet' and model_infer == 'mobnet':\n",
    "    #     ax.text(labels.index('RND'), 0, f'{medians[0]:.2f}', ha='center', va='bottom', fontsize=16, color='black')\n",
    "    #     ax.text(labels.index('NN50'), 0, f'{medians[1]:.2f}', ha='center', va='bottom', fontsize=16, color='black')\n",
    "    #     ax.text(labels.index('NN250'), 0, f'{medians[2]:.2f}', ha='center', va='bottom', fontsize=16, color='black')\n",
    "    #     ax.text(labels.index('GMD'), 0, f'{medians[3]:.2f}', ha='center', va='bottom', fontsize=16, color='black')\n",
    "    #     ax.text(labels.index('OPT'), 0, f'{medians[4]:.2f}', ha='center', va='bottom', fontsize=16, color='black')\n",
    "\n",
    "    # else:\n",
    "    for label, median_value in zip(labels, medians):\n",
    "        if(median_value >= 10):\n",
    "            ax.text(labels.index(label), 9, f'{median_value:.1f}', ha='center', va='bottom', fontsize=16, color='black')\n",
    "        else:\n",
    "            ax.text(labels.index(label), median_value+0.5, f'{median_value:.1f}', ha='center', va='bottom', fontsize=16, color='black')\n",
    "\n",
    "    ax2.text(labels.index('NN250'), 100, '250', ha='center', va='bottom', fontsize=16, color='blue')\n",
    "    median_value = np.median(optim['num_train_batches_optim'])\n",
    "    # ax.text(labels.index('OPT'), median_value, f'{median_value:.2f}', ha='center', va='bottom', fontsize=16, color='black')\n",
    "    ax.axvline(x=labels.index('RND') + 0.5, color='grey', linestyle='-', linewidth=2)\n",
    "    ax.axvline(x=labels.index('NN250') + 0.5, color='grey', linestyle='-', linewidth=2)\n",
    "    ax.axvline(x=labels.index('GMD') + 0.5, color='grey', linestyle='-', linewidth=2)\n",
    "    # Adjust y-axis limits\n",
    "    ax.set_yticks(np.arange(0, 11, 2))\n",
    "    ax.set_ylim(0, 10)\n",
    "    ax2.set_ylim(0, 100)\n",
    "    ax.set_axisbelow(True)\n",
    "    ax2.tick_params(axis='y', labelsize=22, colors='blue')\n",
    "    ax2.spines['right'].set_color('blue')\n",
    "    # ax.set_ylabel('Train Mini batches', fontsize=24)\n",
    "\n",
    "    plt.tight_layout()\n",
    "    plt.savefig('boxPlot_num_train_batches_'+model_train+'_train_'+model_infer+'_infer'+'.pdf', format='pdf',dpi=300, bbox_inches='tight')\n",
    "    plt.show()\n"
   ]
  }
 ],
 "metadata": {
  "kernelspec": {
   "display_name": "base",
   "language": "python",
   "name": "python3"
  },
  "language_info": {
   "codemirror_mode": {
    "name": "ipython",
    "version": 3
   },
   "file_extension": ".py",
   "mimetype": "text/x-python",
   "name": "python",
   "nbconvert_exporter": "python",
   "pygments_lexer": "ipython3",
   "version": "3.11.4"
  }
 },
 "nbformat": 4,
 "nbformat_minor": 2
}
