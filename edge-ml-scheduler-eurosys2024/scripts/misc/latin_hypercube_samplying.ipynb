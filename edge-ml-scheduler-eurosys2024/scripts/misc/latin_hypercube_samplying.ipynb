{
 "cells": [
  {
   "cell_type": "code",
   "execution_count": 3,
   "metadata": {},
   "outputs": [],
   "source": [
    "import numpy as np\n",
    "import pyDOE2"
   ]
  },
  {
   "cell_type": "code",
   "execution_count": 11,
   "metadata": {},
   "outputs": [],
   "source": [
    "def lhs_sample(parameters, samples):\n",
    "    # Number of parameters\n",
    "    n_params = len(parameters)\n",
    "    \n",
    "    # Generate the Latin Hypercube Sampling indices\n",
    "    lhs_indices = pyDOE2.lhs(n_params, samples=samples, criterion='center').astype(float)\n",
    "    \n",
    "    # Scale indices to match the range of each parameter's length\n",
    "    for i in range(n_params):\n",
    "        lhs_indices[:, i] *= len(parameters[i])\n",
    "\n",
    "    # Convert indices to integers\n",
    "    lhs_indices = np.floor(lhs_indices).astype(int)\n",
    "\n",
    "    # Map indices to actual parameter values\n",
    "    combinations = []\n",
    "    for idx in range(samples):\n",
    "        combination = []\n",
    "        for param_index in range(n_params):\n",
    "            parameter_values = parameters[param_index]\n",
    "            parameter_idx = lhs_indices[idx, param_index]\n",
    "            combination.append(parameter_values[parameter_idx])\n",
    "        combinations.append(combination)\n",
    "    \n",
    "    return combinations\n",
    "\n",
    "# Define the parameter value lists\n",
    "core_vals = [4, 8, 12]\n",
    "gpu_vals = [114750000, 318750000, 522750000, 726750000, 930750000, 1134750000, 1300500000]\n",
    "cpu_vals = [422400, 729600, 1036800, 1344000, 1651200, 1958400, 2201600]\n",
    "mem_vals = [665600000, 2133000000, 3199000000]\n",
    "\n",
    "# Generate 5 samples\n",
    "samples = lhs_sample([core_vals, gpu_vals, cpu_vals, mem_vals], 5)\n",
    "\n"
   ]
  },
  {
   "cell_type": "code",
   "execution_count": 12,
   "metadata": {},
   "outputs": [
    {
     "data": {
      "text/plain": [
       "[[8, 1300500000, 1036800, 3199000000],\n",
       " [4, 522750000, 2201600, 2133000000],\n",
       " [4, 114750000, 422400, 665600000],\n",
       " [12, 930750000, 1651200, 665600000],\n",
       " [12, 726750000, 1344000, 3199000000]]"
      ]
     },
     "execution_count": 12,
     "metadata": {},
     "output_type": "execute_result"
    }
   ],
   "source": [
    "samples"
   ]
  },
  {
   "cell_type": "code",
   "execution_count": null,
   "metadata": {},
   "outputs": [],
   "source": []
  }
 ],
 "metadata": {
  "kernelspec": {
   "display_name": "base",
   "language": "python",
   "name": "python3"
  },
  "language_info": {
   "codemirror_mode": {
    "name": "ipython",
    "version": 3
   },
   "file_extension": ".py",
   "mimetype": "text/x-python",
   "name": "python",
   "nbconvert_exporter": "python",
   "pygments_lexer": "ipython3",
   "version": "3.11.5"
  }
 },
 "nbformat": 4,
 "nbformat_minor": 2
}
