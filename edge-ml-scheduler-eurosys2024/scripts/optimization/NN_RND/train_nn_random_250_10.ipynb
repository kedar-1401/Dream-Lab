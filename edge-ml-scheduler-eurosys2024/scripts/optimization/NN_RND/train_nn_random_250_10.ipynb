{
 "cells": [
  {
   "cell_type": "code",
   "execution_count": 1,
   "metadata": {},
   "outputs": [],
   "source": [
    "import pandas as pd\n",
    "import numpy as np"
   ]
  },
  {
   "cell_type": "code",
   "execution_count": 2,
   "metadata": {},
   "outputs": [],
   "source": [
    "sampled_pwds = pd.read_csv(\"tl/e24_random_10_pwmds.csv\")"
   ]
  },
  {
   "cell_type": "code",
   "execution_count": 3,
   "metadata": {},
   "outputs": [],
   "source": [
    "model_name = \"resnet\""
   ]
  },
  {
   "cell_type": "code",
   "execution_count": 4,
   "metadata": {},
   "outputs": [],
   "source": [
    "nn_pareto_df = pd.read_csv(f\"/home/saisamarth/exp/tl/e24_{model_name}_NN_pareto_powermodes_pred_250_sampled.csv\")\n",
    "nn_df = pd.read_csv(f\"/home/saisamarth/exp/tl/e24_merged_observed_predicted_{model_name}_NN_sampled_250.csv\")"
   ]
  },
  {
   "cell_type": "code",
   "execution_count": 5,
   "metadata": {},
   "outputs": [],
   "source": [
    "sampled_pwds = list(sampled_pwds['powermode'].values)"
   ]
  },
  {
   "cell_type": "code",
   "execution_count": 6,
   "metadata": {},
   "outputs": [],
   "source": [
    "random_df = nn_df[nn_df['powermode'].isin(sampled_pwds)]\n"
   ]
  },
  {
   "cell_type": "code",
   "execution_count": 9,
   "metadata": {},
   "outputs": [
    {
     "data": {
      "text/html": [
       "<div>\n",
       "<style scoped>\n",
       "    .dataframe tbody tr th:only-of-type {\n",
       "        vertical-align: middle;\n",
       "    }\n",
       "\n",
       "    .dataframe tbody tr th {\n",
       "        vertical-align: top;\n",
       "    }\n",
       "\n",
       "    .dataframe thead th {\n",
       "        text-align: right;\n",
       "    }\n",
       "</style>\n",
       "<table border=\"1\" class=\"dataframe\">\n",
       "  <thead>\n",
       "    <tr style=\"text-align: right;\">\n",
       "      <th></th>\n",
       "      <th>observed_time</th>\n",
       "      <th>observed_power</th>\n",
       "      <th>powermode</th>\n",
       "      <th>predicted_time</th>\n",
       "      <th>predicted_power</th>\n",
       "    </tr>\n",
       "  </thead>\n",
       "  <tbody>\n",
       "    <tr>\n",
       "      <th>0</th>\n",
       "      <td>216.409889</td>\n",
       "      <td>22.8145</td>\n",
       "      <td>4_422400_1300500000_2133000000</td>\n",
       "      <td>305.87840</td>\n",
       "      <td>25.699232</td>\n",
       "    </tr>\n",
       "    <tr>\n",
       "      <th>1</th>\n",
       "      <td>257.015106</td>\n",
       "      <td>22.5720</td>\n",
       "      <td>4_422400_1300500000_3199000000</td>\n",
       "      <td>285.08035</td>\n",
       "      <td>31.153877</td>\n",
       "    </tr>\n",
       "    <tr>\n",
       "      <th>2</th>\n",
       "      <td>299.540268</td>\n",
       "      <td>22.1700</td>\n",
       "      <td>4_422400_1300500000_665600000</td>\n",
       "      <td>306.90042</td>\n",
       "      <td>23.329690</td>\n",
       "    </tr>\n",
       "    <tr>\n",
       "      <th>3</th>\n",
       "      <td>254.655281</td>\n",
       "      <td>20.8105</td>\n",
       "      <td>4_422400_1134750000_2133000000</td>\n",
       "      <td>304.57925</td>\n",
       "      <td>24.074755</td>\n",
       "    </tr>\n",
       "    <tr>\n",
       "      <th>4</th>\n",
       "      <td>233.582397</td>\n",
       "      <td>20.4630</td>\n",
       "      <td>4_422400_1134750000_3199000000</td>\n",
       "      <td>292.16675</td>\n",
       "      <td>27.793627</td>\n",
       "    </tr>\n",
       "    <tr>\n",
       "      <th>...</th>\n",
       "      <td>...</td>\n",
       "      <td>...</td>\n",
       "      <td>...</td>\n",
       "      <td>...</td>\n",
       "      <td>...</td>\n",
       "    </tr>\n",
       "    <tr>\n",
       "      <th>436</th>\n",
       "      <td>171.996704</td>\n",
       "      <td>23.8930</td>\n",
       "      <td>12_2201600_318750000_3199000000</td>\n",
       "      <td>169.34067</td>\n",
       "      <td>24.942556</td>\n",
       "    </tr>\n",
       "    <tr>\n",
       "      <th>437</th>\n",
       "      <td>236.020462</td>\n",
       "      <td>20.2730</td>\n",
       "      <td>12_2201600_318750000_665600000</td>\n",
       "      <td>230.96603</td>\n",
       "      <td>18.885178</td>\n",
       "    </tr>\n",
       "    <tr>\n",
       "      <th>438</th>\n",
       "      <td>465.527954</td>\n",
       "      <td>17.7560</td>\n",
       "      <td>12_2201600_114750000_2133000000</td>\n",
       "      <td>449.68350</td>\n",
       "      <td>18.024520</td>\n",
       "    </tr>\n",
       "    <tr>\n",
       "      <th>439</th>\n",
       "      <td>464.036285</td>\n",
       "      <td>18.5690</td>\n",
       "      <td>12_2201600_114750000_3199000000</td>\n",
       "      <td>434.87677</td>\n",
       "      <td>20.497835</td>\n",
       "    </tr>\n",
       "    <tr>\n",
       "      <th>440</th>\n",
       "      <td>471.295776</td>\n",
       "      <td>16.9530</td>\n",
       "      <td>12_2201600_114750000_665600000</td>\n",
       "      <td>442.44855</td>\n",
       "      <td>16.079752</td>\n",
       "    </tr>\n",
       "  </tbody>\n",
       "</table>\n",
       "<p>441 rows × 5 columns</p>\n",
       "</div>"
      ],
      "text/plain": [
       "     observed_time  observed_power                        powermode  \\\n",
       "0       216.409889         22.8145   4_422400_1300500000_2133000000   \n",
       "1       257.015106         22.5720   4_422400_1300500000_3199000000   \n",
       "2       299.540268         22.1700    4_422400_1300500000_665600000   \n",
       "3       254.655281         20.8105   4_422400_1134750000_2133000000   \n",
       "4       233.582397         20.4630   4_422400_1134750000_3199000000   \n",
       "..             ...             ...                              ...   \n",
       "436     171.996704         23.8930  12_2201600_318750000_3199000000   \n",
       "437     236.020462         20.2730   12_2201600_318750000_665600000   \n",
       "438     465.527954         17.7560  12_2201600_114750000_2133000000   \n",
       "439     464.036285         18.5690  12_2201600_114750000_3199000000   \n",
       "440     471.295776         16.9530   12_2201600_114750000_665600000   \n",
       "\n",
       "     predicted_time  predicted_power  \n",
       "0         305.87840        25.699232  \n",
       "1         285.08035        31.153877  \n",
       "2         306.90042        23.329690  \n",
       "3         304.57925        24.074755  \n",
       "4         292.16675        27.793627  \n",
       "..              ...              ...  \n",
       "436       169.34067        24.942556  \n",
       "437       230.96603        18.885178  \n",
       "438       449.68350        18.024520  \n",
       "439       434.87677        20.497835  \n",
       "440       442.44855        16.079752  \n",
       "\n",
       "[441 rows x 5 columns]"
      ]
     },
     "execution_count": 9,
     "metadata": {},
     "output_type": "execute_result"
    }
   ],
   "source": [
    "nn_df"
   ]
  },
  {
   "cell_type": "code",
   "execution_count": 73,
   "metadata": {},
   "outputs": [],
   "source": [
    "random_df.reset_index(drop=True, inplace=True)"
   ]
  },
  {
   "cell_type": "code",
   "execution_count": 74,
   "metadata": {},
   "outputs": [],
   "source": [
    "# drop predicted columns\n",
    "random_df = random_df.drop(columns=['predicted_time', 'predicted_power'])"
   ]
  },
  {
   "cell_type": "code",
   "execution_count": 75,
   "metadata": {},
   "outputs": [],
   "source": [
    "if model_name == \"bert\":\n",
    "    power_list = np.arange(10, 61, 1)\n",
    "else:\n",
    "    power_list = np.arange(10, 51, 1)"
   ]
  },
  {
   "cell_type": "code",
   "execution_count": 76,
   "metadata": {},
   "outputs": [],
   "source": [
    "result_df_random = pd.DataFrame(columns=['powermode', 'observed_time', 'observed_power', 'power_budget'])\n",
    "for power_budget in power_list:\n",
    "    # find the best time under power budget for each power_budget\n",
    "    try:\n",
    "        best_time = random_df[random_df['observed_power'] <= power_budget].sort_values(by='observed_time').iloc[0]\n",
    "        result_df_random.loc[len(result_df_random)] = [best_time['powermode'], best_time['observed_time'], best_time['observed_power'], power_budget]\n",
    "    except:\n",
    "        result_df_random.loc[len(result_df_random)] = [np.nan, np.nan, np.nan, power_budget]\n"
   ]
  },
  {
   "cell_type": "code",
   "execution_count": 77,
   "metadata": {},
   "outputs": [],
   "source": [
    "result_df_nn = pd.DataFrame(columns=['powermode', 'observed_time', 'observed_power', 'power_budget'])\n",
    "for power_budget in power_list:\n",
    "    # find the best time under power budget for each power_budget\n",
    "    try:\n",
    "        best_time = nn_pareto_df[nn_pareto_df['predicted_power'] <= power_budget].sort_values(by='predicted_time').iloc[0]\n",
    "        result_df_nn.loc[len(result_df_nn)] = [best_time['powermode'], best_time['observed_time'], best_time['observed_power'], power_budget]\n",
    "    except:\n",
    "        result_df_nn.loc[len(result_df_nn)] = [np.nan, np.nan, np.nan, power_budget]\n"
   ]
  },
  {
   "cell_type": "code",
   "execution_count": 78,
   "metadata": {},
   "outputs": [],
   "source": [
    "# merge the two dataframes on power_budget with suffixes (random, nn)\n",
    "result_df = pd.merge(result_df_random, result_df_nn, on='power_budget', suffixes=('_random', '_nn'))"
   ]
  },
  {
   "cell_type": "code",
   "execution_count": 79,
   "metadata": {},
   "outputs": [],
   "source": [
    "result_df.to_csv(f\"{model_name}_random_vs_nn_train_alt10.csv\", index=False)"
   ]
  },
  {
   "cell_type": "code",
   "execution_count": null,
   "metadata": {},
   "outputs": [],
   "source": []
  }
 ],
 "metadata": {
  "kernelspec": {
   "display_name": "base",
   "language": "python",
   "name": "python3"
  },
  "language_info": {
   "codemirror_mode": {
    "name": "ipython",
    "version": 3
   },
   "file_extension": ".py",
   "mimetype": "text/x-python",
   "name": "python",
   "nbconvert_exporter": "python",
   "pygments_lexer": "ipython3",
   "version": "3.11.5"
  }
 },
 "nbformat": 4,
 "nbformat_minor": 2
}
